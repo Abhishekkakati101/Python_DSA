{
 "cells": [
  {
   "cell_type": "code",
   "execution_count": 5,
   "id": "3900cac4",
   "metadata": {},
   "outputs": [
    {
     "name": "stdout",
     "output_type": "stream",
     "text": [
      "[1, 4, 9, 17, 18, 20, 23, 36]\n",
      "True\n"
     ]
    }
   ],
   "source": [
    "class BinarySeachTreeNode:\n",
    "    def __init__(self, data):\n",
    "        self.data = data\n",
    "        self.left = None\n",
    "        self.right = None\n",
    "    \n",
    "    def add_child(self,data):\n",
    "        if data == self.data:\n",
    "            return\n",
    "        \n",
    "        if data < self.data:\n",
    "            #add data in left subtree\n",
    "            if self.left:\n",
    "                self.left.add_child(data)\n",
    "            else:\n",
    "                self.left = BinarySeachTreeNode(data)\n",
    "        else:\n",
    "            #add data in right subtree\n",
    "            if self.right:\n",
    "                self.right.add_child(data)\n",
    "            else:\n",
    "                self.right = BinarySeachTreeNode(data)\n",
    "                \n",
    "    def in_order_traversal(self):\n",
    "        elements = []\n",
    "        \n",
    "        #visit left tree first\n",
    "        if self.left:\n",
    "            elements += self.left.in_order_traversal()\n",
    "        \n",
    "        #visit the base node\n",
    "        elements.append(self.data)\n",
    "        \n",
    "        #visit right tree first\n",
    "        if self.right:\n",
    "            elements += self.right.in_order_traversal()\n",
    "        \n",
    "        return elements\n",
    "    \n",
    "    def search(self, val):\n",
    "        if self.data == val:\n",
    "            return True\n",
    "        \n",
    "        if val < self.data:\n",
    "            # value might be in the left sub tree\n",
    "            if self.left:\n",
    "                self.left.search(val)\n",
    "            else:\n",
    "                return False\n",
    "         \n",
    "        if val > self.data:\n",
    "            # value might be in the right sub tree\n",
    "            if self.right:\n",
    "                return self.right.search(val)\n",
    "            else:\n",
    "                return False\n",
    "            \n",
    "def build_tree(elements):\n",
    "    root = BinarySeachTreeNode(elements[0])\n",
    "    \n",
    "    for i in range(1, len(elements)):\n",
    "        root.add_child(elements[i])\n",
    "        \n",
    "    return root    \n",
    "    \n",
    "if __name__ == '__main__':\n",
    "    numbers = [17, 4, 1, 20, 9, 23, 18, 36]\n",
    "    numbers_tree = build_tree(numbers)\n",
    "    print(numbers_tree.in_order_traversal())\n",
    "    print(numbers_tree.search(23))"
   ]
  },
  {
   "cell_type": "code",
   "execution_count": null,
   "id": "f728663f",
   "metadata": {},
   "outputs": [],
   "source": []
  }
 ],
 "metadata": {
  "kernelspec": {
   "display_name": "Python 3 (ipykernel)",
   "language": "python",
   "name": "python3"
  },
  "language_info": {
   "codemirror_mode": {
    "name": "ipython",
    "version": 3
   },
   "file_extension": ".py",
   "mimetype": "text/x-python",
   "name": "python",
   "nbconvert_exporter": "python",
   "pygments_lexer": "ipython3",
   "version": "3.9.6"
  }
 },
 "nbformat": 4,
 "nbformat_minor": 5
}
