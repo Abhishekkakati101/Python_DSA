{
 "cells": [
  {
   "cell_type": "code",
   "execution_count": 10,
   "id": "4504113c",
   "metadata": {},
   "outputs": [
    {
     "name": "stdout",
     "output_type": "stream",
     "text": [
      "[1, 2, 5, 9, 34, 34, 67, 88]\n"
     ]
    }
   ],
   "source": [
    "def bubble_sort(elements):\n",
    "    size = len(elements)\n",
    "    \n",
    "    for k in range(size - 1):\n",
    "        swapped = False\n",
    "        for i in range(size - 1 - k):\n",
    "            if elements[i] > elements[i+1]:\n",
    "                tmp = elements[i]\n",
    "                elements[i] = elements[i+1]\n",
    "                elements[i+1] = tmp\n",
    "                swapped = True\n",
    "        if not swapped:\n",
    "            break\n",
    "                   \n",
    "if __name__ == '__main__':\n",
    "    elements = [5, 9, 2, 1, 67, 34, 88, 34]\n",
    "    \n",
    "    bubble_sort(elements)\n",
    "    print(elements)"
   ]
  },
  {
   "cell_type": "code",
   "execution_count": null,
   "id": "3c53f570",
   "metadata": {},
   "outputs": [],
   "source": []
  },
  {
   "cell_type": "code",
   "execution_count": null,
   "id": "435355c2",
   "metadata": {},
   "outputs": [],
   "source": []
  }
 ],
 "metadata": {
  "kernelspec": {
   "display_name": "Python 3 (ipykernel)",
   "language": "python",
   "name": "python3"
  },
  "language_info": {
   "codemirror_mode": {
    "name": "ipython",
    "version": 3
   },
   "file_extension": ".py",
   "mimetype": "text/x-python",
   "name": "python",
   "nbconvert_exporter": "python",
   "pygments_lexer": "ipython3",
   "version": "3.9.6"
  }
 },
 "nbformat": 4,
 "nbformat_minor": 5
}
