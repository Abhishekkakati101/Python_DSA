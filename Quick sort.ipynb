{
 "cells": [
  {
   "cell_type": "code",
   "execution_count": 3,
   "id": "25e592ef",
   "metadata": {},
   "outputs": [
    {
     "ename": "SyntaxError",
     "evalue": "invalid syntax (Temp/ipykernel_32568/1733659541.py, line 27)",
     "output_type": "error",
     "traceback": [
      "\u001b[1;36m  File \u001b[1;32m\"C:\\Users\\Abhishek\\AppData\\Local\\Temp/ipykernel_32568/1733659541.py\"\u001b[1;36m, line \u001b[1;32m27\u001b[0m\n\u001b[1;33m    if start < end\u001b[0m\n\u001b[1;37m                  ^\u001b[0m\n\u001b[1;31mSyntaxError\u001b[0m\u001b[1;31m:\u001b[0m invalid syntax\n"
     ]
    }
   ],
   "source": [
    "def swap(a, b, arr):\n",
    "    #arr[a], arr[b] = arr[b], arr[a]\n",
    "    if a!= b:\n",
    "        tmp = arr[a]\n",
    "        arr[a] = arr[b]\n",
    "        arr[b] = tmp\n",
    "\n",
    "def partition(elements, start, end):\n",
    "    pivot_index = start\n",
    "    pivot = elements[pivot_index]\n",
    "    \n",
    "    while start < end:\n",
    "        while start <= len(elements) and elements[start] <= pivot:\n",
    "            start += 1\n",
    "        \n",
    "        while elements[end] >= pivot:\n",
    "            end -= 1\n",
    "        \n",
    "        if start<end:    \n",
    "            swap(start, end, elements)    \n",
    "    \n",
    "    swap(pivot_index, end, elements)\n",
    "        \n",
    "    return end\n",
    "\n",
    "def quick_sort(elements, start, end):\n",
    "    if start < end\n",
    "        pi = partition(elements, start, end)\n",
    "        quick_sort(elements, start, pi -1)\n",
    "        quick_sort(elements, pi+1, end)\n",
    "\n",
    "if __name__ == '__main__':\n",
    "    elements = [11, 9, 29, 7, 2, 15, 28]\n",
    "    quick_sort(elements, 0, len(elements - 1))\n",
    "    print(elements)"
   ]
  },
  {
   "cell_type": "code",
   "execution_count": null,
   "id": "b52fe978",
   "metadata": {},
   "outputs": [],
   "source": []
  }
 ],
 "metadata": {
  "kernelspec": {
   "display_name": "Python 3 (ipykernel)",
   "language": "python",
   "name": "python3"
  },
  "language_info": {
   "codemirror_mode": {
    "name": "ipython",
    "version": 3
   },
   "file_extension": ".py",
   "mimetype": "text/x-python",
   "name": "python",
   "nbconvert_exporter": "python",
   "pygments_lexer": "ipython3",
   "version": "3.9.6"
  }
 },
 "nbformat": 4,
 "nbformat_minor": 5
}
