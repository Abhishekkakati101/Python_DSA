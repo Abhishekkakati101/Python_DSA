{
 "cells": [
  {
   "cell_type": "markdown",
   "id": "d6b18626",
   "metadata": {},
   "source": [
    "# Write a function in python that can reverse a string using stack data structure"
   ]
  },
  {
   "cell_type": "code",
   "execution_count": null,
   "id": "ce0445fe",
   "metadata": {},
   "outputs": [],
   "source": [
    "class Stack:\n",
    "    def __init__(self):\n",
    "        self.container = deque()\n",
    "        \n",
    "    def push(self,val):\n",
    "        self.container.append(val)\n",
    "        \n",
    "    def pop(self):\n",
    "        return self.container.pop()\n",
    "    \n",
    "    def peek(self):\n",
    "        return self.container[-1]\n",
    "    \n",
    "    def is_empty(self):\n",
    "        return len(self.container) == 0\n",
    "    \n",
    "    def size(self):\n",
    "        return len(self.container)    \n",
    "     \n",
    "def reverse(s):\n",
    "    stack = Stack()\n",
    "    \n",
    "    for ch in s:\n",
    "        stack.push(ch)\n",
    "        \n",
    "    rstr = ''\n",
    "    while stack.size() != 0:\n",
    "        rstr += stack.pop()\n",
    "        \n",
    "    return rstr\n",
    "\n",
    "\n",
    "        "
   ]
  }
 ],
 "metadata": {
  "kernelspec": {
   "display_name": "Python 3 (ipykernel)",
   "language": "python",
   "name": "python3"
  },
  "language_info": {
   "codemirror_mode": {
    "name": "ipython",
    "version": 3
   },
   "file_extension": ".py",
   "mimetype": "text/x-python",
   "name": "python",
   "nbconvert_exporter": "python",
   "pygments_lexer": "ipython3",
   "version": "3.9.6"
  }
 },
 "nbformat": 4,
 "nbformat_minor": 5
}
