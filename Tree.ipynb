{
 "cells": [
  {
   "cell_type": "code",
   "execution_count": 10,
   "id": "1a6ba4ca",
   "metadata": {},
   "outputs": [
    {
     "name": "stdout",
     "output_type": "stream",
     "text": [
      "ELectronics\n",
      "    |-->Laptop\n",
      "        |-->Mac\n",
      "        |-->Asus\n",
      "        |-->Dell\n",
      "    |-->Cell Phone\n",
      "        |-->iPhone\n",
      "        |-->Vivo\n",
      "        |-->Oppo\n",
      "    |-->Television\n",
      "        |-->Samsung\n",
      "        |-->LG\n",
      "        |-->LCD\n"
     ]
    }
   ],
   "source": [
    "class TreeNode:\n",
    "    def __init__(self, data):\n",
    "        self.data = data\n",
    "        self.children = []\n",
    "        self.parent = None\n",
    "    \n",
    "    def add_child(self, child):\n",
    "        child.parent = self\n",
    "        self.children.append(child)\n",
    "    \n",
    "    def get_level(self):\n",
    "        level = 0\n",
    "        p = self.parent\n",
    "        while p:\n",
    "            level += 1\n",
    "            p = p.parent\n",
    "            \n",
    "        return level    \n",
    "            \n",
    "    \n",
    "    def print_tree(self):\n",
    "        spaces = ' ' * self.get_level() * 4\n",
    "        prefix = spaces + \"|-->\" if self.parent else \"\"\n",
    "        print(prefix + self.data)\n",
    "        if self.children:\n",
    "            for child in self.children:\n",
    "                child.print_tree()\n",
    "            \n",
    "    \n",
    "def build_product_tree():\n",
    "    root = TreeNode(\"ELectronics\")\n",
    "    \n",
    "    laptop = TreeNode(\"Laptop\")\n",
    "    laptop.add_child(TreeNode(\"Mac\"))\n",
    "    laptop.add_child(TreeNode(\"Asus\"))\n",
    "    laptop.add_child(TreeNode(\"Dell\"))\n",
    "    \n",
    "    cellphone = TreeNode(\"Cell Phone\")\n",
    "    cellphone.add_child(TreeNode(\"iPhone\"))\n",
    "    cellphone.add_child(TreeNode(\"Vivo\"))\n",
    "    cellphone.add_child(TreeNode(\"Oppo\"))\n",
    "    \n",
    "    tv = TreeNode(\"Television\")\n",
    "    tv.add_child(TreeNode(\"Samsung\"))\n",
    "    tv.add_child(TreeNode(\"LG\"))\n",
    "    tv.add_child(TreeNode(\"LCD\"))\n",
    "    \n",
    "    \n",
    "    root.add_child(laptop)\n",
    "    root.add_child(cellphone)\n",
    "    root.add_child(tv)\n",
    "    \n",
    "    return root\n",
    "    \n",
    "if __name__ == '__main__':\n",
    "    root = build_product_tree()\n",
    "    #print(root.get_level())\n",
    "    root.print_tree()\n",
    "    pass\n",
    "    \n",
    "    "
   ]
  },
  {
   "cell_type": "code",
   "execution_count": null,
   "id": "3f1fce2d",
   "metadata": {},
   "outputs": [],
   "source": []
  }
 ],
 "metadata": {
  "kernelspec": {
   "display_name": "Python 3 (ipykernel)",
   "language": "python",
   "name": "python3"
  },
  "language_info": {
   "codemirror_mode": {
    "name": "ipython",
    "version": 3
   },
   "file_extension": ".py",
   "mimetype": "text/x-python",
   "name": "python",
   "nbconvert_exporter": "python",
   "pygments_lexer": "ipython3",
   "version": "3.9.6"
  }
 },
 "nbformat": 4,
 "nbformat_minor": 5
}
