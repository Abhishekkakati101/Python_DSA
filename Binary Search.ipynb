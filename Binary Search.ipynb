{
 "cells": [
  {
   "cell_type": "code",
   "execution_count": 10,
   "id": "38b68d73",
   "metadata": {},
   "outputs": [
    {
     "name": "stdout",
     "output_type": "stream",
     "text": [
      "Number found at index 2 using binary search\n"
     ]
    }
   ],
   "source": [
    "def linear_search(numbers_list, number_to_find):\n",
    "    for index, element in enumerate(numbers_list):\n",
    "        if element == number_to_find:\n",
    "            return index\n",
    "    return -1    \n",
    "    \n",
    "def binary_search(numbers_list, number_to_find):\n",
    "    left_index = 0\n",
    "    right_index = len(numbers_list) - 1\n",
    "    mid_index = 0\n",
    "    \n",
    "    while left_index <= right_index:\n",
    "        mid_index = (left_index + right_index) // 2\n",
    "        mid_number = numbers_list[mid_index]\n",
    "        \n",
    "        if mid_number == number_to_find:\n",
    "            return mid_index\n",
    "        \n",
    "        if mid_number < number_to_find:\n",
    "            left_index = mid_index + 1\n",
    "        else:\n",
    "            right_index = mid_index - 1\n",
    "            \n",
    "    return -1        \n",
    "        \n",
    "if __name__ == '__main__':\n",
    "    numbers_list = [12, 15, 17, 19, 21, 24, 45, 67]\n",
    "    number_to_find = 17\n",
    "    \n",
    "    #index = linear_search(numbers_list, number_to_find)\n",
    "    \n",
    "    index = binary_search(numbers_list, number_to_find)\n",
    "    print(f\"Number found at index {index} using binary search\")\n",
    "    \n",
    "    "
   ]
  },
  {
   "cell_type": "code",
   "execution_count": null,
   "id": "de14386e",
   "metadata": {},
   "outputs": [],
   "source": []
  }
 ],
 "metadata": {
  "kernelspec": {
   "display_name": "Python 3 (ipykernel)",
   "language": "python",
   "name": "python3"
  },
  "language_info": {
   "codemirror_mode": {
    "name": "ipython",
    "version": 3
   },
   "file_extension": ".py",
   "mimetype": "text/x-python",
   "name": "python",
   "nbconvert_exporter": "python",
   "pygments_lexer": "ipython3",
   "version": "3.9.6"
  }
 },
 "nbformat": 4,
 "nbformat_minor": 5
}
